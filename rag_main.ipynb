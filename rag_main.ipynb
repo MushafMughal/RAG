{
 "cells": [
  {
   "cell_type": "code",
   "execution_count": 7,
   "metadata": {},
   "outputs": [],
   "source": [
    "# !pip install langchain_community\n",
    "# !pip install pypdf\n",
    "# !pip install fastembed\n",
    "# !pip install chromadb"
   ]
  },
  {
   "cell_type": "code",
   "execution_count": 8,
   "metadata": {},
   "outputs": [],
   "source": [
    "from langchain_community.vectorstores import Chroma\n",
    "from langchain_community.document_loaders import PyPDFLoader\n",
    "from langchain_community.chat_models import ChatOllama\n",
    "from langchain_community.embeddings.fastembed import FastEmbedEmbeddings\n",
    "from langchain.text_splitter import RecursiveCharacterTextSplitter\n",
    "from langchain.prompts import PromptTemplate\n",
    "from langchain.chains.combine_documents import create_stuff_documents_chain\n",
    "from langchain.chains import create_retrieval_chain\n",
    "import os"
   ]
  },
  {
   "cell_type": "code",
   "execution_count": 9,
   "metadata": {},
   "outputs": [],
   "source": [
    "os.environ[\"LANGSMITH_TRACING\"] = \"true\"\n",
    "os.environ[\"LANGSMITH_ENDPOINT\"] = \"https://api.smith.langchain.com\"\n",
    "os.environ[\"LANGSMITH_API_KEY\"] = \"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\"\n",
    "os.environ[\"LANGSMITH_PROJECT\"] = \"RAG-COURSE\""
   ]
  },
  {
   "cell_type": "code",
   "execution_count": 10,
   "metadata": {},
   "outputs": [],
   "source": [
    "def ingest():\n",
    "    # Get the doc\n",
    "    loader = PyPDFLoader(\"User Manual.pdf\")\n",
    "    pages = loader.load_and_split()\n",
    "    # Split the pages by char\n",
    "    text_splitter = RecursiveCharacterTextSplitter(\n",
    "        chunk_size=700,\n",
    "        chunk_overlap=100,\n",
    "        length_function=len,\n",
    "        add_start_index=True,\n",
    "    )\n",
    "    chunks = text_splitter.split_documents(pages)\n",
    "    print(f\"Split {len(pages)} documents into {len(chunks)} chunks.\")\n",
    "    #\n",
    "    embedding = FastEmbedEmbeddings()\n",
    "    #Create vector store\n",
    "    Chroma.from_documents(documents=chunks,  embedding=embedding, persist_directory=\"./sql_chroma_db\")\n",
    "\n",
    "#ingest() #run only first time"
   ]
  },
  {
   "cell_type": "code",
   "execution_count": 11,
   "metadata": {},
   "outputs": [],
   "source": [
    "from langchain_ollama import ChatOllama\n",
    "\n",
    "def rag_chain():\n",
    "    #model = ChatOllama(model=\"llama3.2\",temperalture=0)\n",
    "    model = ChatOllama(model=\"qwen2.5:3b-instruct-q6_K\", temperalture=0)\n",
    "    prompt = PromptTemplate.from_template(\n",
    "        \"\"\"\n",
    "        <s> [Instructions] You are a friendly assistant. Answer the question based only on the following context. \n",
    "        If you don't know the answer, then reply, No Context availabel for this question {input}. [/Instructions] </s> \n",
    "        [Instructions] Question: {input} \n",
    "        Context: {context} \n",
    "        Answer: [/Instructions]\n",
    "        \"\"\"\n",
    "    )\n",
    "    #Load vector store\n",
    "    embedding = FastEmbedEmbeddings()\n",
    "    vector_store = Chroma(persist_directory=\"./sql_chroma_db\", embedding_function=embedding)\n",
    "\n",
    "    #Create chain\n",
    "    retriever = vector_store.as_retriever(\n",
    "        search_type=\"similarity_score_threshold\",\n",
    "        search_kwargs={\n",
    "            \"k\": 3,\n",
    "            \"score_threshold\": 0.5,\n",
    "        },\n",
    "    )\n",
    "\n",
    "    document_chain = create_stuff_documents_chain(model, prompt)\n",
    "    chain = create_retrieval_chain(retriever, document_chain)\n",
    "\n",
    "    return chain\n",
    "\n",
    "def ask(query: str):\n",
    "    chain = rag_chain()\n",
    "    result = chain.invoke({\"input\": query})\n",
    "    print(result[\"answer\"])\n",
    "    for doc in result[\"context\"]:\n",
    "        print(\"Source: \", doc.metadata[\"source\"])"
   ]
  },
  {
   "cell_type": "code",
   "execution_count": null,
   "metadata": {},
   "outputs": [
    {
     "name": "stdout",
     "output_type": "stream",
     "text": [
      "Based on the context provided, here are the steps to change your password:\n",
      "\n",
      "1. **Login to NBP Digital**: Access the application through its digital platform.\n",
      "\n",
      "2. **Access Hamburger Menu and Change Password Option**: After logging in, navigate to the hamburger menu (usually represented by three horizontal lines) and select the \"Change Password\" option from there.\n",
      "\n",
      "3. **Input Fields Appear**: You will be presented with input fields for:\n",
      "   - Old Password\n",
      "   - New Password\n",
      "   - Re-enter Password\n",
      "\n",
      "4. **Enter Information and Submit**: Provide your old password, new password, and re-enter the new password to ensure consistency. Press the submit button.\n",
      "\n",
      "5. **Confirmation Notification**: After submitting the form, a confirmation message will display: \"Dear Customer, Your Password has been changed successfully!\"\n",
      "\n",
      "It's worth noting that if you need to reset your password due to forgotten credentials or changes in email address, follow these steps:\n",
      "\n",
      "1. **Login Page for Forgot Password**:\n",
      "   - When attempting login and encountering an issue with the OTP verification, go back to the NBP Digital login page.\n",
      "\n",
      "2. **Enter User ID and Verify OTP**: Enter your User ID (which is typically your registered mobile number) and both parts of the OTP (email and SMS).\n",
      "\n",
      "3. **Submit OTPs**:\n",
      "   - After entering both parts of the OTP, tap on the \"Submit\" button.\n",
      "   \n",
      "4. **Navigate to Change Password Screen**: The change password screen will then appear where you can set a new password.\n",
      "\n",
      "5. **Confirmation Notification**:\n",
      "   - Once you submit the new password, another confirmation message will be displayed: \"Dear Customer, Your Password has been changed successfully!\"\n",
      "\n",
      "Please ensure that your mobile number and email address are correctly registered with NBP Digital for OTP verification to proceed smoothly.\n",
      "Source:  User Manual.pdf\n",
      "Source:  User Manual.pdf\n",
      "Source:  User Manual.pdf\n"
     ]
    }
   ],
   "source": [
    "ask(\"how to change password\")"
   ]
  }
 ],
 "metadata": {
  "kernelspec": {
   "display_name": "Python 3",
   "language": "python",
   "name": "python3"
  },
  "language_info": {
   "codemirror_mode": {
    "name": "ipython",
    "version": 3
   },
   "file_extension": ".py",
   "mimetype": "text/x-python",
   "name": "python",
   "nbconvert_exporter": "python",
   "pygments_lexer": "ipython3",
   "version": "3.12.8"
  }
 },
 "nbformat": 4,
 "nbformat_minor": 2
}
